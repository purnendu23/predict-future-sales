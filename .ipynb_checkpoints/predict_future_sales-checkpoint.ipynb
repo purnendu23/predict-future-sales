{
 "cells": [
  {
   "cell_type": "markdown",
   "metadata": {},
   "source": [
    "#### Goal :: Predict the sale (number of items) for the shop-item pair in the  test set. The test set is for one month - November 2015 "
   ]
  },
  {
   "cell_type": "code",
   "execution_count": 1,
   "metadata": {
    "collapsed": true
   },
   "outputs": [],
   "source": [
    "import numpy as np\n",
    "import pandas as pd\n",
    "import os\n",
    "import csv\n",
    "import matplotlib.pyplot as plt\n",
    "%matplotlib inline"
   ]
  },
  {
   "cell_type": "markdown",
   "metadata": {},
   "source": [
    "#### Read data"
   ]
  },
  {
   "cell_type": "code",
   "execution_count": 2,
   "metadata": {
    "collapsed": true
   },
   "outputs": [],
   "source": [
    "DATA_FOLDER = './'\n",
    "\n",
    "transactions    = pd.read_csv(os.path.join(DATA_FOLDER, 'sales_train.csv.gz'))\n",
    "items           = pd.read_csv(os.path.join(DATA_FOLDER, 'items.csv'))\n",
    "item_categories = pd.read_csv(os.path.join(DATA_FOLDER, 'item_categories.csv'))\n",
    "shops           = pd.read_csv(os.path.join(DATA_FOLDER, 'shops.csv'))\n",
    "\n",
    "test = pd.read_csv(os.path.join(DATA_FOLDER, 'test.csv.gz'))"
   ]
  },
  {
   "cell_type": "code",
   "execution_count": 3,
   "metadata": {
    "collapsed": false
   },
   "outputs": [
    {
     "name": "stdout",
     "output_type": "stream",
     "text": [
      "Total Items: 22170\n",
      "Total Categories: 84\n",
      "Total Shops: 60\n",
      "\n",
      "--------------------------------------------------------\n",
      "\n",
      "Training data\n",
      "  # unique shops: 60\n",
      "  # unique items: 21807\n",
      "\n",
      "--------------------------------------------------------\n",
      "\n",
      "Test data\n",
      "  # unique shops: 42\n",
      "  # unique items: 5100\n"
     ]
    }
   ],
   "source": [
    "print(\"Total Items: {}\".format(items.item_id.nunique()))\n",
    "print(\"Total Categories: {}\".format(item_categories.item_category_id.nunique()))\n",
    "print(\"Total Shops: {}\".format(shops.shop_id.nunique()))\n",
    "print(\"\\n--------------------------------------------------------\\n\")\n",
    "\n",
    "print(\"Training data\")\n",
    "print(\"  # unique shops: {}\".format(transactions.shop_id.nunique()))\n",
    "print(\"  # unique items: {}\".format(transactions.item_id.nunique()))\n",
    "\n",
    "print(\"\\n--------------------------------------------------------\\n\")\n",
    "print(\"Test data\")\n",
    "print(\"  # unique shops: {}\".format(test.shop_id.nunique()))\n",
    "print(\"  # unique items: {}\".format(test.item_id.nunique()))"
   ]
  },
  {
   "cell_type": "markdown",
   "metadata": {},
   "source": [
    "there are some combinations in test data which are not there in training data"
   ]
  },
  {
   "cell_type": "markdown",
   "metadata": {},
   "source": [
    "Get rid of rows with -ve item price.\n",
    "\n",
    "Add the category_id column to the transaction and test df"
   ]
  },
  {
   "cell_type": "code",
   "execution_count": 4,
   "metadata": {
    "collapsed": false,
    "scrolled": true
   },
   "outputs": [
    {
     "name": "stdout",
     "output_type": "stream",
     "text": [
      "Number of objects with item_price lt zero: 1\n"
     ]
    }
   ],
   "source": [
    "print(\"Number of objects with item_price lt zero: {}\".format(len(transactions[transactions.item_price < 0])))\n",
    "\n",
    "# Drop the rows with price lt zero. ther is only one.\n",
    "transactions = transactions[transactions.item_price > 0]\n",
    "\n",
    "# Merging to get category_id in the transaction and test df\n",
    "transactions = pd.merge(transactions, items[['item_id', 'item_category_id']], on='item_id', how='inner')\n",
    "test_mod = pd.merge(test, items[['item_id', 'item_category_id']], on='item_id', how='inner')"
   ]
  },
  {
   "cell_type": "markdown",
   "metadata": {},
   "source": [
    "###### Items for which price remains constant"
   ]
  },
  {
   "cell_type": "code",
   "execution_count": 5,
   "metadata": {
    "collapsed": false
   },
   "outputs": [
    {
     "name": "stdout",
     "output_type": "stream",
     "text": [
      "# Items for which price remains constant: 5926\n"
     ]
    }
   ],
   "source": [
    "# Number of items for which prices remain constant throughout\n",
    "num_const_price_items = sum(transactions.groupby('item_id').item_price.nunique() == 1)\n",
    "print(\"# Items for which price remains constant: {}\".format(num_const_price_items))\n",
    "\n",
    "# Items for which prices remain constant throughout\n",
    "const_price_items = np.where(transactions.groupby('item_id').item_price.nunique() == 1)[0]"
   ]
  },
  {
   "cell_type": "code",
   "execution_count": 6,
   "metadata": {
    "collapsed": false,
    "scrolled": true
   },
   "outputs": [
    {
     "name": "stdout",
     "output_type": "stream",
     "text": [
      "Item# 20949has a constant price and sells the most\n",
      "\n",
      "                                               item_name\n",
      "20949  Фирменный пакет майка 1С Интерес белый (34*42)...\n"
     ]
    }
   ],
   "source": [
    "i_id = transactions[transactions.item_id.isin(const_price_items)].groupby([\"item_id\"]).item_cnt_day.sum().argmax()\n",
    "\n",
    "print(\"Item# {0}has a constant price and sells the most\\n\".format(i_id))\n",
    "iname = str(items[items.item_id == i_id][[\"item_name\"]])\n",
    "print(iname)"
   ]
  },
  {
   "cell_type": "code",
   "execution_count": 7,
   "metadata": {
    "collapsed": false
   },
   "outputs": [
    {
     "name": "stdout",
     "output_type": "stream",
     "text": [
      "const_price_items belong to 72 different categories\n"
     ]
    }
   ],
   "source": [
    "print(\"const_price_items belong to {} different categories\".format(items[items.item_id.isin(const_price_items)].item_category_id.nunique()))"
   ]
  },
  {
   "cell_type": "code",
   "execution_count": 8,
   "metadata": {
    "collapsed": false
   },
   "outputs": [
    {
     "data": {
      "text/html": [
       "<div>\n",
       "<table border=\"1\" class=\"dataframe\">\n",
       "  <thead>\n",
       "    <tr style=\"text-align: right;\">\n",
       "      <th></th>\n",
       "      <th>ID</th>\n",
       "      <th>shop_id</th>\n",
       "      <th>item_id</th>\n",
       "      <th>item_category_id</th>\n",
       "    </tr>\n",
       "  </thead>\n",
       "  <tbody>\n",
       "    <tr>\n",
       "      <th>0</th>\n",
       "      <td>0</td>\n",
       "      <td>5</td>\n",
       "      <td>5037</td>\n",
       "      <td>19</td>\n",
       "    </tr>\n",
       "    <tr>\n",
       "      <th>1</th>\n",
       "      <td>5100</td>\n",
       "      <td>4</td>\n",
       "      <td>5037</td>\n",
       "      <td>19</td>\n",
       "    </tr>\n",
       "    <tr>\n",
       "      <th>2</th>\n",
       "      <td>10200</td>\n",
       "      <td>6</td>\n",
       "      <td>5037</td>\n",
       "      <td>19</td>\n",
       "    </tr>\n",
       "  </tbody>\n",
       "</table>\n",
       "</div>"
      ],
      "text/plain": [
       "      ID  shop_id  item_id  item_category_id\n",
       "0      0        5     5037                19\n",
       "1   5100        4     5037                19\n",
       "2  10200        6     5037                19"
      ]
     },
     "execution_count": 8,
     "metadata": {},
     "output_type": "execute_result"
    }
   ],
   "source": [
    "test_mod.head(3)"
   ]
  },
  {
   "cell_type": "code",
   "execution_count": 9,
   "metadata": {
    "collapsed": false
   },
   "outputs": [
    {
     "data": {
      "image/png": "[encoded data removed]",
      "text/plain": [
       "<matplotlib.figure.Figure at 0x10e1b8940>"
      ]
     },
     "metadata": {},
     "output_type": "display_data"
    },
    {
     "data": {
      "image/png": "[encoded data removed]",
      "text/plain": [
       "<matplotlib.figure.Figure at 0x10c59c860>"
      ]
     },
     "metadata": {},
     "output_type": "display_data"
    },
    {
     "data": {
      "image/png": "[encoded data removed]",
      "text/plain": [
       "<matplotlib.figure.Figure at 0x116b5af60>"
      ]
     },
     "metadata": {},
     "output_type": "display_data"
    }
   ],
   "source": [
    "%matplotlib inline\n",
    "\n",
    "unique_categories, count = np.unique(items.item_category_id, return_counts=True)\n",
    "ax = plt.subplot()\n",
    "ax.bar(unique_categories, count)    \n",
    "plt.title( \"Distribution of Categories across all items\")\n",
    "plt.show()\n",
    "\n",
    "unique_categories_trans, count_trans = np.unique(transactions.item_category_id, return_counts=True)\n",
    "ax = plt.subplot()\n",
    "ax.bar(unique_categories_trans, count_trans)\n",
    "plt.title(\"Distribution of Categories across all transactions\")\n",
    "plt.show()\n",
    "\n",
    "unique_categories_test, count_test = np.unique(test_mod.item_category_id, return_counts=True)\n",
    "ax = plt.subplot()\n",
    "ax.bar(unique_categories_test, count_test)\n",
    "plt.title(\"Distribution of Categories across test dataset\")\n",
    "plt.show()"
   ]
  },
  {
   "cell_type": "code",
   "execution_count": 54,
   "metadata": {
    "collapsed": false
   },
   "outputs": [],
   "source": [
    "categ_distr = transactions.groupby(['item_category_id']).size().reset_index(name='num')\n"
   ]
  },
  {
   "cell_type": "code",
   "execution_count": 57,
   "metadata": {
    "collapsed": false
   },
   "outputs": [
    {
     "name": "stderr",
     "output_type": "stream",
     "text": [
      "/Users/pkaul2/anaconda/lib/python3.6/site-packages/ipykernel/__main__.py:1: FutureWarning: sort(columns=....) is deprecated, use sort_values(by=.....)\n",
      "  if __name__ == '__main__':\n"
     ]
    }
   ],
   "source": [
    "df = categ_distr.sort(\"num\", ascending=[0])[6:]\n"
   ]
  },
  {
   "cell_type": "code",
   "execution_count": 60,
   "metadata": {
    "collapsed": false
   },
   "outputs": [
    {
     "data": {
      "image/png": "[encoded data removed]",
      "text/plain": [
       "<matplotlib.figure.Figure at 0x118950358>"
      ]
     },
     "metadata": {},
     "output_type": "display_data"
    }
   ],
   "source": [
    "ax1 = plt.subplot()\n",
    "ax1.bar(list(df.item_category_id), list(df.num))\n",
    "plt.title(\"Distribution of Categories across test dataset\")\n",
    "plt.show()"
   ]
  },
  {
   "cell_type": "markdown",
   "metadata": {},
   "source": [
    "Looks more or less the same"
   ]
  },
  {
   "cell_type": "code",
   "execution_count": 175,
   "metadata": {
    "collapsed": false
   },
   "outputs": [
    {
     "name": "stdout",
     "output_type": "stream",
     "text": [
      "# items in test set: 5100\n",
      "# items in test set and transaction set: 4737\n",
      "# items in test but not transaction: 363\n",
      "\n",
      "\n",
      "# shops in test set: 42\n",
      "# shops in test set and transaction set: 42\n",
      "# shops in test but not transaction: 0\n"
     ]
    }
   ],
   "source": [
    "items_test_nottrans = len(set(test.item_id.unique()) - set(test.item_id.unique()).intersection(set(transactions.item_id.unique())))\n",
    "intersection_items_test_transac = len(set(test.item_id.unique()).intersection(set(transactions.item_id.unique())))\n",
    "item_count_test = len(set(test.item_id.unique()))\n",
    "\n",
    "print(\"# items in test set: {}\".format(item_count_test))\n",
    "print(\"# items in test set and transaction set: {}\".format(intersection_items_test_transac))\n",
    "print(\"# items in test but not transaction: {}\".format(items_test_nottrans))\n",
    "\n",
    "print(\"\\n\")\n",
    "\n",
    "shops_test_nottrans = len(set(test.shop_id.unique()) - set(test.shop_id.unique()).intersection(set(transactions.shop_id.unique())))\n",
    "intersection_shops_test_transac = len(set(test.shop_id.unique()).intersection(set(transactions.shop_id.unique())))\n",
    "shop_count_test = len(set(test.shop_id.unique()))\n",
    "\n",
    "print(\"# shops in test set: {}\".format(shop_count_test))\n",
    "print(\"# shops in test set and transaction set: {}\".format(intersection_shops_test_transac))\n",
    "print(\"# shops in test but not transaction: {}\".format(shops_test_nottrans))"
   ]
  },
  {
   "cell_type": "markdown",
   "metadata": {},
   "source": [
    "There are some items in test set which do not exist in transaction dataset. \n",
    "However, these items will probabaly be similar to some other items in the transaction dataset.\n",
    "We can use this simillarity to predict for these items"
   ]
  },
  {
   "cell_type": "markdown",
   "metadata": {},
   "source": [
    "###### Constructing previous_value_benchmark\n",
    "\n",
    "For the each shop/item pair our predictions are just monthly sales from the previous month, i.e. October 2015.\n",
    "\n",
    "The most important step at reproducing this score is correctly aggregating daily data and constructing monthly sales data frame. You need to get lagged values, fill NaNs with zeros and clip the values into [0,20] range. If you do it correctly, you'll get precisely 1.16777 on the public leaderboard.\n",
    "\n",
    "Generating features like this is a necessary basis for more complex models. Also, if you decide to fit some model, don't forget to clip the target into [0,20] range, it makes a big difference."
   ]
  },
  {
   "cell_type": "code",
   "execution_count": 187,
   "metadata": {
    "collapsed": true
   },
   "outputs": [],
   "source": [
    "def get_item_cnt(shopid, itemid):\n",
    "    if (shopid, itemid) in trans_oct_grouped:\n",
    "        count  = trans_oct_grouped[int(shopid), int(itemid)]\n",
    "        if(count > 20):\n",
    "            return 20\n",
    "        elif(count < 0):\n",
    "            return 0\n",
    "        else:\n",
    "            return count\n",
    "    else:\n",
    "        return 0\n",
    "\n",
    "trans_oct = transactions[transactions.date_block_num == 33]\n",
    "trans_oct_grouped = trans_oct.groupby([\"shop_id\", \"item_id\"]).item_cnt_day.sum()\n",
    "previous_value_benchmark_submission = test\n",
    "\n",
    "previous_value_benchmark_submission[\"item_cnt_month\"] = previous_value_benchmark_submission.apply(lambda x: get_item_cnt(x.shop_id, x.item_id), axis=1)"
   ]
  },
  {
   "cell_type": "code",
   "execution_count": 188,
   "metadata": {
    "collapsed": false
   },
   "outputs": [
    {
     "data": {
      "text/plain": [
       "count    214200.000000\n",
       "mean          0.255649\n",
       "std           1.089856\n",
       "min           0.000000\n",
       "25%           0.000000\n",
       "50%           0.000000\n",
       "75%           0.000000\n",
       "max          20.000000\n",
       "Name: item_cnt_month, dtype: float64"
      ]
     },
     "execution_count": 188,
     "metadata": {},
     "output_type": "execute_result"
    }
   ],
   "source": [
    "previous_value_benchmark_submission.item_cnt_month.describe()"
   ]
  },
  {
   "cell_type": "markdown",
   "metadata": {},
   "source": [
    "##### writing previous_value_benchmark_submission ---> csv file"
   ]
  },
  {
   "cell_type": "code",
   "execution_count": null,
   "metadata": {
    "collapsed": true
   },
   "outputs": [],
   "source": [
    "previous_value_benchmark_submission[[\"ID\", \"item_cnt_month\"]].to_csv(\"previous_value_benchmark_submission\", index=False)"
   ]
  },
  {
   "cell_type": "markdown",
   "metadata": {
    "collapsed": false
   },
   "source": [
    "###### Distribution of items across months\n",
    "Get the items which are common to test and transaction data.\n",
    "For each item:\n",
    "    How many months have at least one entry for that item?\n",
    "    "
   ]
  },
  {
   "cell_type": "code",
   "execution_count": 137,
   "metadata": {
    "collapsed": false
   },
   "outputs": [
    {
     "name": "stdout",
     "output_type": "stream",
     "text": [
      "4737\n"
     ]
    }
   ],
   "source": [
    "# Items present in both test and transaction data\n",
    "s = set(test.item_id.unique()).intersection(set(transactions.item_id.unique()))\n",
    "print(len(s))"
   ]
  },
  {
   "cell_type": "code",
   "execution_count": 109,
   "metadata": {
    "collapsed": false
   },
   "outputs": [],
   "source": [
    "item_distr = transactions.groupby(['item_id'])['date_block_num'].unique().reset_index(name='list_months')\n",
    "item_distr[\"num_months\"] = item_distr.list_months.apply(lambda x: x.size)\n",
    "item_distr = item_distr.drop(['list_months'], axis=1)\n",
    "item_distr_testset = item_distr[item_distr.item_id.isin(list(s))]"
   ]
  },
  {
   "cell_type": "code",
   "execution_count": 140,
   "metadata": {
    "collapsed": false
   },
   "outputs": [
    {
     "data": {
      "text/plain": [
       "0                      PC - Гарнитуры/Наушники\n",
       "1                             Аксессуары - PS2\n",
       "2                             Аксессуары - PS3\n",
       "3                             Аксессуары - PS4\n",
       "4                             Аксессуары - PSP\n",
       "5                          Аксессуары - PSVita\n",
       "6                        Аксессуары - XBOX 360\n",
       "7                        Аксессуары - XBOX ONE\n",
       "8                               Билеты (Цифра)\n",
       "9                              Доставка товара\n",
       "10                       Игровые консоли - PS2\n",
       "11                       Игровые консоли - PS3\n",
       "12                       Игровые консоли - PS4\n",
       "13                       Игровые консоли - PSP\n",
       "14                    Игровые консоли - PSVita\n",
       "15                  Игровые консоли - XBOX 360\n",
       "16                  Игровые консоли - XBOX ONE\n",
       "17                    Игровые консоли - Прочие\n",
       "18                                  Игры - PS2\n",
       "19                                  Игры - PS3\n",
       "20                                  Игры - PS4\n",
       "21                                  Игры - PSP\n",
       "22                               Игры - PSVita\n",
       "23                             Игры - XBOX 360\n",
       "24                             Игры - XBOX ONE\n",
       "25                   Игры - Аксессуары для игр\n",
       "26                        Игры Android - Цифра\n",
       "27                            Игры MAC - Цифра\n",
       "28            Игры PC - Дополнительные издания\n",
       "29             Игры PC - Коллекционные издания\n",
       "                        ...                   \n",
       "54                               Книги - Цифра\n",
       "55         Музыка - CD локального производства\n",
       "56         Музыка - CD фирменного производства\n",
       "57                                Музыка - MP3\n",
       "58                              Музыка - Винил\n",
       "59                  Музыка - Музыкальное видео\n",
       "60                 Музыка - Подарочные издания\n",
       "61                        Подарки - Атрибутика\n",
       "62            Подарки - Гаджеты, роботы, спорт\n",
       "63                    Подарки - Мягкие игрушки\n",
       "64                   Подарки - Настольные игры\n",
       "65      Подарки - Настольные игры (компактные)\n",
       "66                Подарки - Открытки, наклейки\n",
       "67                          Подарки - Развитие\n",
       "68               Подарки - Сертификаты, услуги\n",
       "69                          Подарки - Сувениры\n",
       "70              Подарки - Сувениры (в навеску)\n",
       "71    Подарки - Сумки, Альбомы, Коврики д/мыши\n",
       "72                           Подарки - Фигурки\n",
       "73                Программы - 1С:Предприятие 8\n",
       "74                     Программы - MAC (Цифра)\n",
       "75                Программы - Для дома и офиса\n",
       "76        Программы - Для дома и офиса (Цифра)\n",
       "77                       Программы - Обучающие\n",
       "78               Программы - Обучающие (Цифра)\n",
       "79                                   Служебные\n",
       "80                          Служебные - Билеты\n",
       "81                     Чистые носители (шпиль)\n",
       "82                   Чистые носители (штучные)\n",
       "83                            Элементы питания\n",
       "Name: item_category_name, dtype: object"
      ]
     },
     "execution_count": 140,
     "metadata": {},
     "output_type": "execute_result"
    }
   ],
   "source": [
    "item_categories.item_category_name"
   ]
  },
  {
   "cell_type": "code",
   "execution_count": null,
   "metadata": {
    "collapsed": false
   },
   "outputs": [],
   "source": []
  },
  {
   "cell_type": "code",
   "execution_count": null,
   "metadata": {
    "collapsed": false
   },
   "outputs": [],
   "source": []
  }
 ],
 "metadata": {
  "kernelspec": {
   "display_name": "Python 3",
   "language": "python",
   "name": "python3"
  },
  "language_info": {
   "codemirror_mode": {
    "name": "ipython",
    "version": 3
   },
   "file_extension": ".py",
   "mimetype": "text/x-python",
   "name": "python",
   "nbconvert_exporter": "python",
   "pygments_lexer": "ipython3",
   "version": "3.6.0"
  }
 },
 "nbformat": 4,
 "nbformat_minor": 2
}
