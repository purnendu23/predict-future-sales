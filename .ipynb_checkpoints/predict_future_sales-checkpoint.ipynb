{
 "cells": [
  {
   "cell_type": "markdown",
   "metadata": {},
   "source": [
    "#### Goal :: Predict the sale (number of items) for the shop-item pair in the  test set. The test set is for one month - November 2015 "
   ]
  },
  {
   "cell_type": "code",
   "execution_count": 62,
   "metadata": {
    "collapsed": true
   },
   "outputs": [],
   "source": [
    "import numpy as np\n",
    "import pandas as pd\n",
    "import os\n",
    "import csv\n",
    "import datetime\n",
    "import matplotlib.pyplot as plt\n",
    "%matplotlib inline"
   ]
  },
  {
   "cell_type": "markdown",
   "metadata": {},
   "source": [
    "#### Read data"
   ]
  },
  {
   "cell_type": "code",
   "execution_count": 63,
   "metadata": {
    "collapsed": true
   },
   "outputs": [],
   "source": [
    "DATA_FOLDER = './'\n",
    "\n",
    "transactions    = pd.read_csv(os.path.join(DATA_FOLDER, 'sales_train.csv.gz'))\n",
    "items           = pd.read_csv(os.path.join(DATA_FOLDER, 'items.csv'))\n",
    "item_categories = pd.read_csv(os.path.join(DATA_FOLDER, 'item_categories.csv'))\n",
    "shops           = pd.read_csv(os.path.join(DATA_FOLDER, 'shops.csv'))\n",
    "\n",
    "test = pd.read_csv(os.path.join(DATA_FOLDER, 'test.csv.gz'))"
   ]
  },
  {
   "cell_type": "code",
   "execution_count": 64,
   "metadata": {
    "collapsed": false
   },
   "outputs": [],
   "source": [
    "print(\"Total Items: {}\".format(items.item_id.nunique()))\n",
    "print(\"Total Categories: {}\".format(item_categories.item_category_id.nunique()))\n",
    "print(\"Total Shops: {}\".format(shops.shop_id.nunique()))\n",
    "print(\"\\n--------------------------------------------------------\\n\")\n",
    "\n",
    "print(\"Training data\")\n",
    "print(\"  # unique shops: {}\".format(transactions.shop_id.nunique()))\n",
    "print(\"  # unique items: {}\".format(transactions.item_id.nunique()))\n",
    "\n",
    "print(\"\\n--------------------------------------------------------\\n\")\n",
    "print(\"Test data\")\n",
    "print(\"  # unique shops: {}\".format(test.shop_id.nunique()))\n",
    "print(\"  # unique items: {}\".format(test.item_id.nunique()))\n",
    "\n",
    "\n",
    "%matplotlib inline\n",
    "\n",
    "# Merging to get category_id in the transaction and test df\n",
    "transactions = pd.merge(transactions, items[['item_id', 'item_category_id']], on='item_id', how='inner')\n",
    "test_mod = pd.merge(test, items[['item_id', 'item_category_id']], on='item_id', how='inner')\n",
    "\n",
    "unique_categories, count = np.unique(items.item_category_id, return_counts=True)\n",
    "ax = plt.subplot()\n",
    "ax.bar(unique_categories, count)    \n",
    "plt.title( \"Distribution of Categories across all items\")\n",
    "plt.show()\n",
    "\n",
    "unique_categories_trans, count_trans = np.unique(transactions.item_category_id, return_counts=True)\n",
    "ax = plt.subplot()\n",
    "ax.bar(unique_categories_trans, count_trans)\n",
    "plt.title(\"Distribution of Categories across all transactions\")\n",
    "plt.show()\n",
    "\n",
    "unique_categories_test, count_test = np.unique(test_mod.item_category_id, return_counts=True)\n",
    "ax = plt.subplot()\n",
    "ax.bar(unique_categories_test, count_test)\n",
    "plt.title(\"Distribution of Categories across test dataset\")\n",
    "plt.show()\n",
    "\n",
    "print(\"\\n\\n\")\n",
    "\n",
    "items_test_nottrans = len(set(test.item_id.unique()) - set(test.item_id.unique()).intersection(set(transactions.item_id.unique())))\n",
    "intersection_items_test_transac = len(set(test.item_id.unique()).intersection(set(transactions.item_id.unique())))\n",
    "item_count_test = len(set(test.item_id.unique()))\n",
    "\n",
    "print(\"# items in test set: {}\".format(item_count_test))\n",
    "print(\"# items in test set and transaction set: {}\".format(intersection_items_test_transac))\n",
    "print(\"# items in test but not transaction: {}\".format(items_test_nottrans))\n",
    "\n",
    "print(\"\\n\")\n",
    "\n",
    "shops_test_nottrans = len(set(test.shop_id.unique()) - set(test.shop_id.unique()).intersection(set(transactions.shop_id.unique())))\n",
    "intersection_shops_test_transac = len(set(test.shop_id.unique()).intersection(set(transactions.shop_id.unique())))\n",
    "shop_count_test = len(set(test.shop_id.unique()))\n",
    "\n",
    "print(\"# shops in test set: {}\".format(shop_count_test))\n",
    "print(\"# shops in test set and transaction set: {}\".format(intersection_shops_test_transac))\n",
    "print(\"# shops in test but not transaction: {}\".format(shops_test_nottrans))\n",
    "\n",
    "print(\"\\n\")\n",
    "\n",
    "# Distribution of items across months\n",
    "\n",
    "#Get the items which are common to test and transaction data.\n",
    "#For each item:\n",
    "#    How many months have at least one entry for that item?\n",
    "\n",
    "# Items present in both test and transaction data\n",
    "\n",
    "\n",
    "item_distr = transactions.groupby(['item_id'])['date_block_num'].unique().reset_index(name='list_months')\n",
    "item_distr[\"num_months\"] = item_distr.list_months.apply(lambda x: x.size)\n",
    "item_distr = item_distr.drop(['list_months'], axis=1)\n",
    "item_distr_testset = item_distr[item_distr.item_id.isin(list(s))]"
   ]
  },
  {
   "cell_type": "markdown",
   "metadata": {},
   "source": [
    "###### Constructing previous_value_benchmark\n",
    "\n",
    "For the each shop/item pair our predictions are just monthly sales from the previous month, i.e. October 2015.\n",
    "\n",
    "The most important step at reproducing this score is correctly aggregating daily data and constructing monthly sales data frame. You need to get lagged values, fill NaNs with zeros and clip the values into [0,20] range. If you do it correctly, you'll get precisely 1.16777 on the public leaderboard.\n",
    "\n",
    "Generating features like this is a necessary basis for more complex models. Also, if you decide to fit some model, don't forget to clip the target into [0,20] range, it makes a big difference."
   ]
  },
  {
   "cell_type": "code",
   "execution_count": null,
   "metadata": {
    "collapsed": true
   },
   "outputs": [],
   "source": [
    "def get_item_cnt(shopid, itemid):\n",
    "    if (shopid, itemid) in trans_oct_grouped:\n",
    "        count  = trans_oct_grouped[int(shopid), int(itemid)]\n",
    "        if(count > 20):\n",
    "            return 20\n",
    "        elif(count < 0):\n",
    "            return 0\n",
    "        else:\n",
    "            return count\n",
    "    else:\n",
    "        return 0\n",
    "\n",
    "trans_oct = transactions[transactions.date_block_num == 33]\n",
    "trans_oct_grouped = trans_oct.groupby([\"shop_id\", \"item_id\"]).item_cnt_day.sum()\n",
    "previous_value_benchmark_submission = test\n",
    "\n",
    "previous_value_benchmark_submission[\"item_cnt_month\"] = previous_value_benchmark_submission.apply(lambda x: get_item_cnt(x.shop_id, x.item_id), axis=1)\n",
    "print(previous_value_benchmark_submission.item_cnt_month.describe())\n",
    "\n",
    "# writing previous_value_benchmark_submission ---> csv file\n",
    "previous_value_benchmark_submission[[\"ID\", \"item_cnt_month\"]].to_csv(\"previous_value_benchmark_submission\", index=False)"
   ]
  },
  {
   "cell_type": "markdown",
   "metadata": {},
   "source": [
    "###### Preprocess transaction (train) and test dataset\n",
    "\n",
    "There are some items in test set which do not exist in transaction dataset. \n",
    "However, these items will probabaly be similar to some other items in the transaction dataset.\n",
    "We can use this simillarity to predict for these items"
   ]
  },
  {
   "cell_type": "code",
   "execution_count": 65,
   "metadata": {
    "collapsed": true
   },
   "outputs": [],
   "source": [
    "# Drop the rows with price lt zero. ther is only one.\n",
    "transactions = transactions[transactions.item_price > 0]"
   ]
  },
  {
   "cell_type": "code",
   "execution_count": 67,
   "metadata": {
    "collapsed": false
   },
   "outputs": [
    {
     "data": {
      "text/html": [
       "<div>\n",
       "<table border=\"1\" class=\"dataframe\">\n",
       "  <thead>\n",
       "    <tr style=\"text-align: right;\">\n",
       "      <th></th>\n",
       "      <th>date</th>\n",
       "      <th>date_block_num</th>\n",
       "      <th>shop_id</th>\n",
       "      <th>item_id</th>\n",
       "      <th>item_price</th>\n",
       "      <th>item_cnt_day</th>\n",
       "    </tr>\n",
       "  </thead>\n",
       "  <tbody>\n",
       "    <tr>\n",
       "      <th>0</th>\n",
       "      <td>02.01.2013</td>\n",
       "      <td>0</td>\n",
       "      <td>59</td>\n",
       "      <td>22154</td>\n",
       "      <td>999.0</td>\n",
       "      <td>1.0</td>\n",
       "    </tr>\n",
       "    <tr>\n",
       "      <th>1</th>\n",
       "      <td>03.01.2013</td>\n",
       "      <td>0</td>\n",
       "      <td>25</td>\n",
       "      <td>2552</td>\n",
       "      <td>899.0</td>\n",
       "      <td>1.0</td>\n",
       "    </tr>\n",
       "    <tr>\n",
       "      <th>2</th>\n",
       "      <td>05.01.2013</td>\n",
       "      <td>0</td>\n",
       "      <td>25</td>\n",
       "      <td>2552</td>\n",
       "      <td>899.0</td>\n",
       "      <td>-1.0</td>\n",
       "    </tr>\n",
       "  </tbody>\n",
       "</table>\n",
       "</div>"
      ],
      "text/plain": [
       "         date  date_block_num  shop_id  item_id  item_price  item_cnt_day\n",
       "0  02.01.2013               0       59    22154       999.0           1.0\n",
       "1  03.01.2013               0       25     2552       899.0           1.0\n",
       "2  05.01.2013               0       25     2552       899.0          -1.0"
      ]
     },
     "execution_count": 67,
     "metadata": {},
     "output_type": "execute_result"
    }
   ],
   "source": [
    "# Group the data by month and drop the date \n",
    "transactions.head(3)"
   ]
  },
  {
   "cell_type": "code",
   "execution_count": 26,
   "metadata": {
    "collapsed": false
   },
   "outputs": [],
   "source": [
    "# code to get days, month, year\n",
    "# transactions['day'] = transactions.date.apply(lambda x: datetime.datetime.strptime(x, \"%d.%m.%Y\").day)\n",
    "# transactions['month'] = transactions.date.apply(lambda x: datetime.datetime.strptime(x, \"%d.%m.%Y\").month)\n",
    "# transactions['year'] = transactions.date.apply(lambda x: datetime.datetime.strptime(x, \"%d.%m.%Y\").year)"
   ]
  },
  {
   "cell_type": "code",
   "execution_count": 101,
   "metadata": {
    "collapsed": false
   },
   "outputs": [],
   "source": [
    "# Group the data by [day, shop, item and price] to find the cumulative count\n",
    "trans_a = transactions.groupby(['date', 'date_block_num', 'shop_id', 'item_id'])['item_cnt_day'].sum().reset_index(name='item_cnt')"
   ]
  },
  {
   "cell_type": "code",
   "execution_count": 104,
   "metadata": {
    "collapsed": false
   },
   "outputs": [
    {
     "data": {
      "text/html": [
       "<div>\n",
       "<table border=\"1\" class=\"dataframe\">\n",
       "  <thead>\n",
       "    <tr style=\"text-align: right;\">\n",
       "      <th></th>\n",
       "      <th>date</th>\n",
       "      <th>date_block_num</th>\n",
       "      <th>shop_id</th>\n",
       "      <th>item_id</th>\n",
       "      <th>item_cnt</th>\n",
       "    </tr>\n",
       "  </thead>\n",
       "  <tbody>\n",
       "    <tr>\n",
       "      <th>0</th>\n",
       "      <td>01.01.2013</td>\n",
       "      <td>0</td>\n",
       "      <td>2</td>\n",
       "      <td>991</td>\n",
       "      <td>1.0</td>\n",
       "    </tr>\n",
       "    <tr>\n",
       "      <th>1</th>\n",
       "      <td>01.01.2013</td>\n",
       "      <td>0</td>\n",
       "      <td>2</td>\n",
       "      <td>1472</td>\n",
       "      <td>1.0</td>\n",
       "    </tr>\n",
       "    <tr>\n",
       "      <th>2</th>\n",
       "      <td>01.01.2013</td>\n",
       "      <td>0</td>\n",
       "      <td>2</td>\n",
       "      <td>1905</td>\n",
       "      <td>1.0</td>\n",
       "    </tr>\n",
       "    <tr>\n",
       "      <th>3</th>\n",
       "      <td>01.01.2013</td>\n",
       "      <td>0</td>\n",
       "      <td>2</td>\n",
       "      <td>2920</td>\n",
       "      <td>2.0</td>\n",
       "    </tr>\n",
       "  </tbody>\n",
       "</table>\n",
       "</div>"
      ],
      "text/plain": [
       "         date  date_block_num  shop_id  item_id  item_cnt\n",
       "0  01.01.2013               0        2      991       1.0\n",
       "1  01.01.2013               0        2     1472       1.0\n",
       "2  01.01.2013               0        2     1905       1.0\n",
       "3  01.01.2013               0        2     2920       2.0"
      ]
     },
     "execution_count": 104,
     "metadata": {},
     "output_type": "execute_result"
    }
   ],
   "source": [
    "trans_a.head(4)"
   ]
  },
  {
   "cell_type": "code",
   "execution_count": 96,
   "metadata": {
    "collapsed": false
   },
   "outputs": [
    {
     "name": "stdout",
     "output_type": "stream",
     "text": [
      "total unique items in test set: 5100\n",
      "797\n",
      "584\n",
      "491\n",
      "413\n",
      "361\n",
      "315\n",
      "\n",
      "\n",
      "2961\n"
     ]
    }
   ],
   "source": [
    "# looking at the price variability (in training data) of items which are in the test set.\n",
    "\n",
    "trans_sub = transactions[transactions.item_id.isin(test.item_id.unique())]\n",
    "print(\"total unique items in test set: {}\".format(len(test.item_id.unique())))\n",
    "\n",
    "num_const_price_items = sum(trans_sub.groupby('item_id').item_price.nunique() == 1)\n",
    "print(num_const_price_items)\n",
    "\n",
    "price_change1_items = sum(trans_sub.groupby('item_id').item_price.nunique() == 2)\n",
    "print(price_change1_items)\n",
    "\n",
    "price_change2_items = sum(trans_sub.groupby('item_id').item_price.nunique() == 3)\n",
    "print(price_change2_items)\n",
    "\n",
    "price_change3_items = sum(trans_sub.groupby('item_id').item_price.nunique() == 4)\n",
    "print(price_change3_items)\n",
    "\n",
    "price_change4_items = sum(trans_sub.groupby('item_id').item_price.nunique() == 5)\n",
    "print(price_change4_items)\n",
    "\n",
    "price_change5_items = sum(trans_sub.groupby('item_id').item_price.nunique() == 6)\n",
    "print(price_change5_items)\n",
    "\n",
    "print(\"\\n\")\n",
    "\n",
    "print(num_const_price_items + price_change1_items + price_change2_items +\n",
    "      price_change3_items + price_change4_items + price_change5_items)"
   ]
  },
  {
   "cell_type": "code",
   "execution_count": 168,
   "metadata": {
    "collapsed": false
   },
   "outputs": [
    {
     "ename": "SyntaxError",
     "evalue": "unexpected EOF while parsing (<ipython-input-168-4d935777a393>, line 6)",
     "output_type": "error",
     "traceback": [
      "\u001b[0;36m  File \u001b[0;32m\"<ipython-input-168-4d935777a393>\"\u001b[0;36m, line \u001b[0;32m6\u001b[0m\n\u001b[0;31m    shops.shop_name.apply(lambda x: x.split()[2]\u001b[0m\n\u001b[0m                                                ^\u001b[0m\n\u001b[0;31mSyntaxError\u001b[0m\u001b[0;31m:\u001b[0m unexpected EOF while parsing\n"
     ]
    }
   ],
   "source": [
    "\n",
    "print(shops.shop_name.apply(lambda x: x.split()[0]).unique())\n",
    "print(\"\\n\\n\")\n",
    "print(shops.shop_name.apply(lambda x: x.split()[1]).unique())\n",
    "\n"
   ]
  },
  {
   "cell_type": "code",
   "execution_count": 177,
   "metadata": {
    "collapsed": false
   },
   "outputs": [
    {
     "data": {
      "text/plain": [
       "['!Якутск',\n",
       " 'Адыгея',\n",
       " 'Балашиха',\n",
       " 'Волжский',\n",
       " 'Вологда',\n",
       " 'Воронеж',\n",
       " 'Выездная',\n",
       " 'Жуковский',\n",
       " 'Интернет-магазин',\n",
       " 'Казань',\n",
       " 'Калуга',\n",
       " 'Коломна',\n",
       " 'Красноярск',\n",
       " 'Курск',\n",
       " 'Москва',\n",
       " 'Мытищи',\n",
       " 'Н.Новгород',\n",
       " 'Новосибирск',\n",
       " 'Омск',\n",
       " 'РостовНаДону',\n",
       " 'СПб',\n",
       " 'Самара',\n",
       " 'Сергиев',\n",
       " 'Сургут',\n",
       " 'Томск',\n",
       " 'Тюмень',\n",
       " 'Уфа',\n",
       " 'Химки',\n",
       " 'Цифровой',\n",
       " 'Чехов',\n",
       " 'Якутск',\n",
       " 'Ярославль']"
      ]
     },
     "execution_count": 177,
     "metadata": {},
     "output_type": "execute_result"
    }
   ],
   "source": [
    "list(shops.shop_name.apply(lambda x: x.split()[0]).unique())"
   ]
  },
  {
   "cell_type": "code",
   "execution_count": null,
   "metadata": {
    "collapsed": false
   },
   "outputs": [],
   "source": [
    "### Shops Descriptions:\n",
    "\n",
    "Выездная Торговля - Outbound Trade\n",
    "\n",
    "Интернет-магазин ЧС - Online shop Emergency"
   ]
  },
  {
   "cell_type": "code",
   "execution_count": 178,
   "metadata": {
    "collapsed": false
   },
   "outputs": [
    {
     "data": {
      "text/plain": [
       "array(['!Якутск Орджоникидзе, 56 фран', '!Якутск ТЦ \"Центральный\" фран',\n",
       "       'Адыгея ТЦ \"Мега\"', 'Балашиха ТРК \"Октябрь-Киномир\"',\n",
       "       'Волжский ТЦ \"Волга Молл\"', 'Вологда ТРЦ \"Мармелад\"',\n",
       "       'Воронеж (Плехановская, 13)', 'Воронеж ТРЦ \"Максимир\"',\n",
       "       'Воронеж ТРЦ Сити-Парк \"Град\"', 'Выездная Торговля',\n",
       "       'Жуковский ул. Чкалова 39м?', 'Жуковский ул. Чкалова 39м²',\n",
       "       'Интернет-магазин ЧС', 'Казань ТЦ \"Бехетле\"',\n",
       "       'Казань ТЦ \"ПаркХаус\" II', 'Калуга ТРЦ \"XXI век\"',\n",
       "       'Коломна ТЦ \"Рио\"', 'Красноярск ТЦ \"Взлетка Плаза\"',\n",
       "       'Красноярск ТЦ \"Июнь\"', 'Курск ТЦ \"Пушкинский\"',\n",
       "       'Москва \"Распродажа\"', 'Москва МТРЦ \"Афи Молл\"',\n",
       "       'Москва Магазин С21', 'Москва ТК \"Буденовский\" (пав.А2)',\n",
       "       'Москва ТК \"Буденовский\" (пав.К7)', 'Москва ТРК \"Атриум\"',\n",
       "       'Москва ТЦ \"Ареал\" (Беляево)', 'Москва ТЦ \"МЕГА Белая Дача II\"',\n",
       "       'Москва ТЦ \"МЕГА Теплый Стан\" II',\n",
       "       'Москва ТЦ \"Новый век\" (Новокосино)', 'Москва ТЦ \"Перловский\"',\n",
       "       'Москва ТЦ \"Семеновский\"', 'Москва ТЦ \"Серебряный Дом\"',\n",
       "       'Мытищи ТРК \"XL-3\"', 'Н.Новгород ТРЦ \"РИО\"',\n",
       "       'Н.Новгород ТРЦ \"Фантастика\"',\n",
       "       'Новосибирск ТРЦ \"Галерея Новосибирск\"', 'Новосибирск ТЦ \"Мега\"',\n",
       "       'Омск ТЦ \"Мега\"', 'РостовНаДону ТРК \"Мегацентр Горизонт\"',\n",
       "       'РостовНаДону ТРК \"Мегацентр Горизонт\" Островной',\n",
       "       'РостовНаДону ТЦ \"Мега\"', 'СПб ТК \"Невский Центр\"',\n",
       "       'СПб ТК \"Сенная\"', 'Самара ТЦ \"Мелодия\"', 'Самара ТЦ \"ПаркХаус\"',\n",
       "       'Сергиев Посад ТЦ \"7Я\"', 'Сургут ТРЦ \"Сити Молл\"',\n",
       "       'Томск ТРЦ \"Изумрудный Город\"', 'Тюмень ТРЦ \"Кристалл\"',\n",
       "       'Тюмень ТЦ \"Гудвин\"', 'Тюмень ТЦ \"Зеленый Берег\"',\n",
       "       'Уфа ТК \"Центральный\"', 'Уфа ТЦ \"Семья\" 2', 'Химки ТЦ \"Мега\"',\n",
       "       'Цифровой склад 1С-Онлайн', 'Чехов ТРЦ \"Карнавал\"',\n",
       "       'Якутск Орджоникидзе, 56', 'Якутск ТЦ \"Центральный\"',\n",
       "       'Ярославль ТЦ \"Альтаир\"'], dtype=object)"
      ]
     },
     "execution_count": 178,
     "metadata": {},
     "output_type": "execute_result"
    }
   ],
   "source": [
    "shops.shop_name.unique() Воронеж"
   ]
  },
  {
   "cell_type": "code",
   "execution_count": 155,
   "metadata": {
    "collapsed": false
   },
   "outputs": [
    {
     "data": {
      "text/plain": [
       "ID         0\n",
       "shop_id    0\n",
       "item_id    0\n",
       "dtype: int64"
      ]
     },
     "execution_count": 155,
     "metadata": {},
     "output_type": "execute_result"
    }
   ],
   "source": [
    "def getCity(x):\n",
    "    "
   ]
  }
 ],
 "metadata": {
  "kernelspec": {
   "display_name": "Python 3",
   "language": "python",
   "name": "python3"
  },
  "language_info": {
   "codemirror_mode": {
    "name": "ipython",
    "version": 3
   },
   "file_extension": ".py",
   "mimetype": "text/x-python",
   "name": "python",
   "nbconvert_exporter": "python",
   "pygments_lexer": "ipython3",
   "version": "3.6.0"
  }
 },
 "nbformat": 4,
 "nbformat_minor": 2
}
