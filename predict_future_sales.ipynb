{
 "cells": [
  {
   "cell_type": "markdown",
   "metadata": {},
   "source": [
    "#### Goal :: Predict the sale (number of items) for the shop-item pair in the  test set. The test set is for one month - November 2015 "
   ]
  },
  {
   "cell_type": "code",
   "execution_count": 532,
   "metadata": {},
   "outputs": [],
   "source": [
    "from datetime import datetime, timedelta, date\n",
    "from calendar import monthrange\n",
    "from pytz import timezone\n",
    "import pandas as pd\n",
    "import numpy as np\n",
    "import feather\n",
    "import datetime\n",
    "import pytz\n",
    "import csv\n",
    "import os\n",
    "import matplotlib.pyplot as plt\n",
    "\n",
    "%matplotlib inline\n",
    "\n",
    "\n",
    "def get_dates_in_month(year, month, time_zone):\n",
    "    num_days = monthrange(year, month)[1]\n",
    "    first_date_of_month = datetime.datetime(year,month,1, tzinfo=time_zone)\n",
    "    last_date_of_month =  datetime.datetime(year,month,num_days, tzinfo=time_zone)\n",
    "    return get_dates_inrange(first_date_of_month, last_date_of_month)\n",
    "\n",
    "\n",
    "def get_dates_inrange(date1, date2):\n",
    "    if (not isinstance(date1, datetime.datetime)) | (not isinstance(date2, datetime.datetime)):\n",
    "        return \"date1 and date2 should be of type datetime.date\"\n",
    "    num_days = (date2 - date1).days + 1\n",
    "    date_list = [date1 + datetime.timedelta(days=x) for x in range(0, num_days)]\n",
    "    return date_list"
   ]
  },
  {
   "cell_type": "markdown",
   "metadata": {},
   "source": [
    "#### Read data"
   ]
  },
  {
   "cell_type": "code",
   "execution_count": 539,
   "metadata": {},
   "outputs": [],
   "source": [
    "DATA_FOLDER = './'\n",
    "\n",
    "sales    = pd.read_csv(os.path.join(DATA_FOLDER, 'sales_train.csv.gz'))\n",
    "items           = pd.read_csv(os.path.join(DATA_FOLDER, 'items.csv'))\n",
    "item_categories = pd.read_csv(os.path.join(DATA_FOLDER, 'item_categories.csv'))\n",
    "shops           = pd.read_csv(os.path.join(DATA_FOLDER, 'shops.csv'))\n",
    "date_df = pd.read_pickle(\"russian_holidays.pkl\")\n",
    "geography = pd.read_csv('geography.csv')\n",
    "test = pd.read_csv(os.path.join(DATA_FOLDER, 'test.csv.gz'))\n",
    "holiday_filepath = 'hol.feather'\n",
    "holidays = feather.read_dataframe(path)\n"
   ]
  },
  {
   "cell_type": "code",
   "execution_count": 540,
   "metadata": {},
   "outputs": [
    {
     "name": "stdout",
     "output_type": "stream",
     "text": [
      "Total Items: 22170\n",
      "Total Categories: 84\n",
      "Total Shops: 60\n",
      "\n",
      "--------------------------------------------------------\n",
      "\n",
      "Training data\n",
      "  # unique shops: 60\n",
      "  # unique items: 21807\n",
      "\n",
      "--------------------------------------------------------\n",
      "\n",
      "Test data\n",
      "  # unique shops: 42\n",
      "  # unique items: 5100\n"
     ]
    },
    {
     "data": {
      "image/png": "[encoded data removed]",
      "text/plain": [
       "<matplotlib.figure.Figure at 0x19dae7588>"
      ]
     },
     "metadata": {},
     "output_type": "display_data"
    },
    {
     "data": {
      "image/png": "[encoded data removed]",
      "text/plain": [
       "<matplotlib.figure.Figure at 0x10daf0780>"
      ]
     },
     "metadata": {},
     "output_type": "display_data"
    },
    {
     "data": {
      "image/png": "[encoded data removed]",
      "text/plain": [
       "<matplotlib.figure.Figure at 0x11ec6ceb8>"
      ]
     },
     "metadata": {},
     "output_type": "display_data"
    },
    {
     "name": "stdout",
     "output_type": "stream",
     "text": [
      "\n",
      "\n",
      "\n",
      "# items in test set: 5100\n",
      "# items in test set and transaction set: 4737\n",
      "# items in test but not transaction: 363\n",
      "\n",
      "\n",
      "# shops in test set: 42\n",
      "# shops in test set and transaction set: 42\n",
      "# shops in test but not transaction: 0\n",
      "\n",
      "\n"
     ]
    }
   ],
   "source": [
    "print(\"Total Items: {}\".format(items.item_id.nunique()))\n",
    "print(\"Total Categories: {}\".format(item_categories.item_category_id.nunique()))\n",
    "print(\"Total Shops: {}\".format(shops.shop_id.nunique()))\n",
    "print(\"\\n--------------------------------------------------------\\n\")\n",
    "\n",
    "print(\"Training data\")\n",
    "print(\"  # unique shops: {}\".format(transactions.shop_id.nunique()))\n",
    "print(\"  # unique items: {}\".format(transactions.item_id.nunique()))\n",
    "\n",
    "print(\"\\n--------------------------------------------------------\\n\")\n",
    "print(\"Test data\")\n",
    "print(\"  # unique shops: {}\".format(test.shop_id.nunique()))\n",
    "print(\"  # unique items: {}\".format(test.item_id.nunique()))\n",
    "\n",
    "\n",
    "%matplotlib inline\n",
    "transactions = sales\n",
    "# Drop the rows with price lt zero. ther is only one.\n",
    "transactions = transactions[transactions.item_price > 0]\n",
    "\n",
    "# Merging to get category_id in the transaction df\n",
    "transactions = pd.merge(transactions, items[['item_id', 'item_category_id']], on='item_id', how='left')\n",
    "\n",
    "unique_categories, count = np.unique(items.item_category_id, return_counts=True)\n",
    "ax = plt.subplot()\n",
    "ax.bar(unique_categories, count)    \n",
    "plt.title( \"Distribution of Categories across all items\")\n",
    "plt.show()\n",
    "\n",
    "unique_categories_trans, count_trans = np.unique(transactions.item_category_id, return_counts=True)\n",
    "ax = plt.subplot()\n",
    "ax.bar(unique_categories_trans, count_trans)\n",
    "plt.title(\"Distribution of Categories across all transactions\")\n",
    "plt.show()\n",
    "\n",
    "unique_categories_test, count_test = np.unique(test_mod.item_category_id, return_counts=True)\n",
    "ax = plt.subplot()\n",
    "ax.bar(unique_categories_test, count_test)\n",
    "plt.title(\"Distribution of Categories across test dataset\")\n",
    "plt.show()\n",
    "\n",
    "print(\"\\n\\n\")\n",
    "\n",
    "items_test_nottrans = len(set(test.item_id.unique()) - set(test.item_id.unique()).intersection(set(transactions.item_id.unique())))\n",
    "intersection_items_test_transac = len(set(test.item_id.unique()).intersection(set(transactions.item_id.unique())))\n",
    "item_count_test = len(set(test.item_id.unique()))\n",
    "\n",
    "print(\"# items in test set: {}\".format(item_count_test))\n",
    "print(\"# items in test set and transaction set: {}\".format(intersection_items_test_transac))\n",
    "print(\"# items in test but not transaction: {}\".format(items_test_nottrans))\n",
    "\n",
    "print(\"\\n\")\n",
    "\n",
    "shops_test_nottrans = len(set(test.shop_id.unique()) - set(test.shop_id.unique()).intersection(set(transactions.shop_id.unique())))\n",
    "intersection_shops_test_transac = len(set(test.shop_id.unique()).intersection(set(transactions.shop_id.unique())))\n",
    "shop_count_test = len(set(test.shop_id.unique()))\n",
    "\n",
    "print(\"# shops in test set: {}\".format(shop_count_test))\n",
    "print(\"# shops in test set and transaction set: {}\".format(intersection_shops_test_transac))\n",
    "print(\"# shops in test but not transaction: {}\".format(shops_test_nottrans))\n",
    "\n",
    "print(\"\\n\")"
   ]
  },
  {
   "cell_type": "markdown",
   "metadata": {},
   "source": [
    "###### Constructing previous_value_benchmark\n",
    "\n",
    "For the each shop/item pair our predictions are just monthly sales from the previous month, i.e. October 2015.\n",
    "\n",
    "The most important step at reproducing this score is correctly aggregating daily data and constructing monthly sales data frame. You need to get lagged values, fill NaNs with zeros and clip the values into [0,20] range. If you do it correctly, you'll get precisely 1.16777 on the public leaderboard.\n",
    "\n",
    "Generating features like this is a necessary basis for more complex models. Also, if you decide to fit some model, don't forget to clip the target into [0,20] range, it makes a big difference."
   ]
  },
  {
   "cell_type": "code",
   "execution_count": null,
   "metadata": {
    "collapsed": true
   },
   "outputs": [],
   "source": [
    "# def get_item_cnt(shopid, itemid):\n",
    "#     if (shopid, itemid) in trans_oct_grouped:\n",
    "#         count  = trans_oct_grouped[int(shopid), int(itemid)]\n",
    "#         if(count > 20):\n",
    "#             return 20\n",
    "#         elif(count < 0):\n",
    "#             return 0\n",
    "#         else:\n",
    "#             return count\n",
    "#     else:\n",
    "#         return 0\n",
    "\n",
    "# trans_oct = transactions[transactions.date_block_num == 33]\n",
    "# trans_oct_grouped = trans_oct.groupby([\"shop_id\", \"item_id\"]).item_cnt_day.sum()\n",
    "# previous_value_benchmark_submission = test\n",
    "\n",
    "# previous_value_benchmark_submission[\"item_cnt_month\"] = previous_value_benchmark_submission.apply(lambda x: get_item_cnt(x.shop_id, x.item_id), axis=1)\n",
    "# print(previous_value_benchmark_submission.item_cnt_month.describe())\n",
    "\n",
    "# # writing previous_value_benchmark_submission ---> csv file\n",
    "# previous_value_benchmark_submission[[\"ID\", \"item_cnt_month\"]].to_csv(\"previous_value_benchmark_submission\", index=False)"
   ]
  },
  {
   "cell_type": "markdown",
   "metadata": {},
   "source": [
    "##### Building the shops data frame"
   ]
  },
  {
   "cell_type": "code",
   "execution_count": 546,
   "metadata": {},
   "outputs": [
    {
     "name": "stdout",
     "output_type": "stream",
     "text": [
      "(60, 8)\n"
     ]
    },
    {
     "data": {
      "text/html": [
       "<div>\n",
       "<style>\n",
       "    .dataframe thead tr:only-child th {\n",
       "        text-align: right;\n",
       "    }\n",
       "\n",
       "    .dataframe thead th {\n",
       "        text-align: left;\n",
       "    }\n",
       "\n",
       "    .dataframe tbody tr th {\n",
       "        vertical-align: top;\n",
       "    }\n",
       "</style>\n",
       "<table border=\"1\" class=\"dataframe\">\n",
       "  <thead>\n",
       "    <tr style=\"text-align: right;\">\n",
       "      <th></th>\n",
       "      <th>shop_name</th>\n",
       "      <th>shop_id</th>\n",
       "      <th>shop_type</th>\n",
       "      <th>city</th>\n",
       "      <th>time_wrt_utc</th>\n",
       "      <th>fed_subject</th>\n",
       "      <th>fed_dist</th>\n",
       "      <th>dist_from_moscow</th>\n",
       "    </tr>\n",
       "  </thead>\n",
       "  <tbody>\n",
       "    <tr>\n",
       "      <th>0</th>\n",
       "      <td>!Якутск Орджоникидзе, 56 фран</td>\n",
       "      <td>0</td>\n",
       "      <td>OTH</td>\n",
       "      <td>Якутск</td>\n",
       "      <td>9</td>\n",
       "      <td>Sakha Republic</td>\n",
       "      <td>Far East</td>\n",
       "      <td>8395</td>\n",
       "    </tr>\n",
       "    <tr>\n",
       "      <th>1</th>\n",
       "      <td>!Якутск ТЦ \"Центральный\" фран</td>\n",
       "      <td>1</td>\n",
       "      <td>ТЦ</td>\n",
       "      <td>Якутск</td>\n",
       "      <td>9</td>\n",
       "      <td>Sakha Republic</td>\n",
       "      <td>Far East</td>\n",
       "      <td>8395</td>\n",
       "    </tr>\n",
       "    <tr>\n",
       "      <th>2</th>\n",
       "      <td>Якутск Орджоникидзе, 56</td>\n",
       "      <td>57</td>\n",
       "      <td>OTH</td>\n",
       "      <td>Якутск</td>\n",
       "      <td>9</td>\n",
       "      <td>Sakha Republic</td>\n",
       "      <td>Far East</td>\n",
       "      <td>8395</td>\n",
       "    </tr>\n",
       "    <tr>\n",
       "      <th>3</th>\n",
       "      <td>Якутск ТЦ \"Центральный\"</td>\n",
       "      <td>58</td>\n",
       "      <td>ТЦ</td>\n",
       "      <td>Якутск</td>\n",
       "      <td>9</td>\n",
       "      <td>Sakha Republic</td>\n",
       "      <td>Far East</td>\n",
       "      <td>8395</td>\n",
       "    </tr>\n",
       "    <tr>\n",
       "      <th>4</th>\n",
       "      <td>Адыгея ТЦ \"Мега\"</td>\n",
       "      <td>2</td>\n",
       "      <td>ТЦ</td>\n",
       "      <td>Адыгея</td>\n",
       "      <td>3</td>\n",
       "      <td>Adygea Republic</td>\n",
       "      <td>South</td>\n",
       "      <td>1589</td>\n",
       "    </tr>\n",
       "  </tbody>\n",
       "</table>\n",
       "</div>"
      ],
      "text/plain": [
       "                       shop_name  shop_id shop_type    city  time_wrt_utc  \\\n",
       "0  !Якутск Орджоникидзе, 56 фран        0       OTH  Якутск             9   \n",
       "1  !Якутск ТЦ \"Центральный\" фран        1        ТЦ  Якутск             9   \n",
       "2        Якутск Орджоникидзе, 56       57       OTH  Якутск             9   \n",
       "3        Якутск ТЦ \"Центральный\"       58        ТЦ  Якутск             9   \n",
       "4               Адыгея ТЦ \"Мега\"        2        ТЦ  Адыгея             3   \n",
       "\n",
       "       fed_subject  fed_dist  dist_from_moscow  \n",
       "0   Sakha Republic  Far East              8395  \n",
       "1   Sakha Republic  Far East              8395  \n",
       "2   Sakha Republic  Far East              8395  \n",
       "3   Sakha Republic  Far East              8395  \n",
       "4  Adygea Republic     South              1589  "
      ]
     },
     "execution_count": 546,
     "metadata": {},
     "output_type": "execute_result"
    }
   ],
   "source": [
    "# Setting the shop_type\n",
    "shop_types = ['ТЦ', 'ТРК', 'ТРЦ', 'МТРЦ', 'ТК']\n",
    "shops[\"shop_type\"] = shops.shop_name.apply(lambda x: x.split()[1] if x.split()[1] in shop_types else 'OTH')\n",
    "\n",
    "# Setting the city for each shop\n",
    "shops[\"city\"] = shops.shop_name.apply(lambda x: x.split()[0].replace(\"!\", \"\"))\n",
    "\n",
    "# Appending the geographic info to shops df\n",
    "shops = pd.merge(shops, geography.drop(['city_eng'], axis=1), on='city', how='inner')\n",
    "\n",
    "print(shops.shape)\n",
    "shops.head()"
   ]
  },
  {
   "cell_type": "code",
   "execution_count": 547,
   "metadata": {},
   "outputs": [
    {
     "name": "stdout",
     "output_type": "stream",
     "text": [
      "(2935849, 6)\n",
      "(214200, 3)\n"
     ]
    },
    {
     "data": {
      "text/html": [
       "<div>\n",
       "<style>\n",
       "    .dataframe thead tr:only-child th {\n",
       "        text-align: right;\n",
       "    }\n",
       "\n",
       "    .dataframe thead th {\n",
       "        text-align: left;\n",
       "    }\n",
       "\n",
       "    .dataframe tbody tr th {\n",
       "        vertical-align: top;\n",
       "    }\n",
       "</style>\n",
       "<table border=\"1\" class=\"dataframe\">\n",
       "  <thead>\n",
       "    <tr style=\"text-align: right;\">\n",
       "      <th></th>\n",
       "      <th>date</th>\n",
       "      <th>date_block_num</th>\n",
       "      <th>shop_id</th>\n",
       "      <th>item_id</th>\n",
       "      <th>item_price</th>\n",
       "      <th>item_cnt_day</th>\n",
       "    </tr>\n",
       "  </thead>\n",
       "  <tbody>\n",
       "    <tr>\n",
       "      <th>0</th>\n",
       "      <td>02.01.2013</td>\n",
       "      <td>0</td>\n",
       "      <td>59</td>\n",
       "      <td>22154</td>\n",
       "      <td>999.0</td>\n",
       "      <td>1.0</td>\n",
       "    </tr>\n",
       "    <tr>\n",
       "      <th>1</th>\n",
       "      <td>03.01.2013</td>\n",
       "      <td>0</td>\n",
       "      <td>25</td>\n",
       "      <td>2552</td>\n",
       "      <td>899.0</td>\n",
       "      <td>1.0</td>\n",
       "    </tr>\n",
       "  </tbody>\n",
       "</table>\n",
       "</div>"
      ],
      "text/plain": [
       "         date  date_block_num  shop_id  item_id  item_price  item_cnt_day\n",
       "0  02.01.2013               0       59    22154       999.0           1.0\n",
       "1  03.01.2013               0       25     2552       899.0           1.0"
      ]
     },
     "execution_count": 547,
     "metadata": {},
     "output_type": "execute_result"
    }
   ],
   "source": [
    "print(sales.shape)\n",
    "print(test.shape)\n",
    "sales.head(2)"
   ]
  },
  {
   "cell_type": "code",
   "execution_count": 549,
   "metadata": {},
   "outputs": [
    {
     "data": {
      "text/html": [
       "<div>\n",
       "<style>\n",
       "    .dataframe thead tr:only-child th {\n",
       "        text-align: right;\n",
       "    }\n",
       "\n",
       "    .dataframe thead th {\n",
       "        text-align: left;\n",
       "    }\n",
       "\n",
       "    .dataframe tbody tr th {\n",
       "        vertical-align: top;\n",
       "    }\n",
       "</style>\n",
       "<table border=\"1\" class=\"dataframe\">\n",
       "  <thead>\n",
       "    <tr style=\"text-align: right;\">\n",
       "      <th></th>\n",
       "      <th>ID</th>\n",
       "      <th>shop_id</th>\n",
       "      <th>item_id</th>\n",
       "    </tr>\n",
       "  </thead>\n",
       "  <tbody>\n",
       "    <tr>\n",
       "      <th>0</th>\n",
       "      <td>0</td>\n",
       "      <td>5</td>\n",
       "      <td>5037</td>\n",
       "    </tr>\n",
       "    <tr>\n",
       "      <th>1</th>\n",
       "      <td>1</td>\n",
       "      <td>5</td>\n",
       "      <td>5320</td>\n",
       "    </tr>\n",
       "  </tbody>\n",
       "</table>\n",
       "</div>"
      ],
      "text/plain": [
       "   ID  shop_id  item_id\n",
       "0   0        5     5037\n",
       "1   1        5     5320"
      ]
     },
     "execution_count": 549,
     "metadata": {},
     "output_type": "execute_result"
    }
   ],
   "source": [
    "test.head(2)"
   ]
  },
  {
   "cell_type": "code",
   "execution_count": 486,
   "metadata": {},
   "outputs": [],
   "source": [
    "# Group the data by [date, shop_id, item_id ] to find the cumulative count. price is ignored for now\n",
    "trans_a = transactions.groupby(['date', 'date_block_num', 'shop_id', 'item_id', 'item_category_id'])['item_cnt_day'].sum().reset_index(name='item_cnt')"
   ]
  },
  {
   "cell_type": "code",
   "execution_count": 487,
   "metadata": {},
   "outputs": [
    {
     "data": {
      "text/html": [
       "<div>\n",
       "<style>\n",
       "    .dataframe thead tr:only-child th {\n",
       "        text-align: right;\n",
       "    }\n",
       "\n",
       "    .dataframe thead th {\n",
       "        text-align: left;\n",
       "    }\n",
       "\n",
       "    .dataframe tbody tr th {\n",
       "        vertical-align: top;\n",
       "    }\n",
       "</style>\n",
       "<table border=\"1\" class=\"dataframe\">\n",
       "  <thead>\n",
       "    <tr style=\"text-align: right;\">\n",
       "      <th></th>\n",
       "      <th>date</th>\n",
       "      <th>date_block_num</th>\n",
       "      <th>shop_id</th>\n",
       "      <th>item_id</th>\n",
       "      <th>item_category_id</th>\n",
       "      <th>item_cnt</th>\n",
       "    </tr>\n",
       "  </thead>\n",
       "  <tbody>\n",
       "    <tr>\n",
       "      <th>0</th>\n",
       "      <td>01.01.2013</td>\n",
       "      <td>0</td>\n",
       "      <td>2</td>\n",
       "      <td>991</td>\n",
       "      <td>67</td>\n",
       "      <td>1.0</td>\n",
       "    </tr>\n",
       "    <tr>\n",
       "      <th>1</th>\n",
       "      <td>01.01.2013</td>\n",
       "      <td>0</td>\n",
       "      <td>2</td>\n",
       "      <td>1472</td>\n",
       "      <td>23</td>\n",
       "      <td>1.0</td>\n",
       "    </tr>\n",
       "    <tr>\n",
       "      <th>2</th>\n",
       "      <td>01.01.2013</td>\n",
       "      <td>0</td>\n",
       "      <td>2</td>\n",
       "      <td>1905</td>\n",
       "      <td>30</td>\n",
       "      <td>1.0</td>\n",
       "    </tr>\n",
       "    <tr>\n",
       "      <th>3</th>\n",
       "      <td>01.01.2013</td>\n",
       "      <td>0</td>\n",
       "      <td>2</td>\n",
       "      <td>2920</td>\n",
       "      <td>21</td>\n",
       "      <td>2.0</td>\n",
       "    </tr>\n",
       "  </tbody>\n",
       "</table>\n",
       "</div>"
      ],
      "text/plain": [
       "         date  date_block_num  shop_id  item_id  item_category_id  item_cnt\n",
       "0  01.01.2013               0        2      991                67       1.0\n",
       "1  01.01.2013               0        2     1472                23       1.0\n",
       "2  01.01.2013               0        2     1905                30       1.0\n",
       "3  01.01.2013               0        2     2920                21       2.0"
      ]
     },
     "execution_count": 487,
     "metadata": {},
     "output_type": "execute_result"
    }
   ],
   "source": [
    "trans_a.head(4)"
   ]
  },
  {
   "cell_type": "code",
   "execution_count": 488,
   "metadata": {},
   "outputs": [
    {
     "name": "stdout",
     "output_type": "stream",
     "text": [
      "total unique items in test set: 5100\n",
      "797\n",
      "584\n",
      "491\n",
      "413\n",
      "361\n",
      "315\n",
      "\n",
      "\n",
      "2961\n"
     ]
    }
   ],
   "source": [
    "# looking at the price variability (in training data) of items which are in the test set.\n",
    "\n",
    "trans_sub = transactions[transactions.item_id.isin(test.item_id.unique())]\n",
    "print(\"total unique items in test set: {}\".format(len(test.item_id.unique())))\n",
    "\n",
    "num_const_price_items = sum(trans_sub.groupby('item_id').item_price.nunique() == 1)\n",
    "print(num_const_price_items)\n",
    "\n",
    "price_change1_items = sum(trans_sub.groupby('item_id').item_price.nunique() == 2)\n",
    "print(price_change1_items)\n",
    "\n",
    "price_change2_items = sum(trans_sub.groupby('item_id').item_price.nunique() == 3)\n",
    "print(price_change2_items)\n",
    "\n",
    "price_change3_items = sum(trans_sub.groupby('item_id').item_price.nunique() == 4)\n",
    "print(price_change3_items)\n",
    "\n",
    "price_change4_items = sum(trans_sub.groupby('item_id').item_price.nunique() == 5)\n",
    "print(price_change4_items)\n",
    "\n",
    "price_change5_items = sum(trans_sub.groupby('item_id').item_price.nunique() == 6)\n",
    "print(price_change5_items)\n",
    "\n",
    "print(\"\\n\")\n",
    "\n",
    "print(num_const_price_items + price_change1_items + price_change2_items +\n",
    "      price_change3_items + price_change4_items + price_change5_items)"
   ]
  },
  {
   "cell_type": "markdown",
   "metadata": {},
   "source": [
    "##### Building the transaction data frame"
   ]
  },
  {
   "cell_type": "code",
   "execution_count": 490,
   "metadata": {},
   "outputs": [],
   "source": [
    "# Appending temporal information\n",
    "# trans_a['day'] = trans_a.date.apply(lambda x: datetime.datetime.strptime(x, \"%d.%m.%Y\").day)\n",
    "# trans_a['month'] = trans_a.date.apply(lambda x: datetime.datetime.strptime(x, \"%d.%m.%Y\").month)\n",
    "# trans_a['year'] = trans_a.date.apply(lambda x: datetime.datetime.strptime(x, \"%d.%m.%Y\").year)\n",
    "# trans_a = pd.merge(trans_a, date_df, on= (['year', 'month', 'day']), how='inner')\n",
    "\n",
    "# Appending shop information\n",
    "trans_a = pd.merge(trans_a, shops, on='shop_id', how='inner')"
   ]
  },
  {
   "cell_type": "markdown",
   "metadata": {},
   "source": [
    "## TO Do: \n",
    "\n",
    "### Get the preliminary feature set (done)\n",
    "Get rid of some unnecesary columns\n",
    "\n",
    "### Feature preprocessing:\n",
    "check for NAN values...\n",
    "encoding\n",
    "\n",
    "\n",
    " prepare test set also. ( cross between dates and input test file(item-shop pair)). \n",
    "Additionally append the shop, temporal columns to test.\n",
    "\n",
    " How are we training?\n",
    "\n",
    "\n",
    "Ideally there should be training at the item level. i.e. one model for each item.\n",
    " However, that is not possible because there are some items which are not in training data."
   ]
  },
  {
   "cell_type": "markdown",
   "metadata": {},
   "source": [
    "#### Build the training set"
   ]
  },
  {
   "cell_type": "code",
   "execution_count": 302,
   "metadata": {},
   "outputs": [],
   "source": [
    "### incomplete..."
   ]
  },
  {
   "cell_type": "markdown",
   "metadata": {},
   "source": [
    "#### Build the test set"
   ]
  },
  {
   "cell_type": "code",
   "execution_count": 492,
   "metadata": {},
   "outputs": [],
   "source": [
    "from itertools import product\n",
    "\n",
    "year=2015\n",
    "month=11\n",
    "moscow = timezone('Europe/Moscow')\n",
    "\n",
    "# get the list of dates in Nov-2015\n",
    "date_list = get_dates_in_month(year, month, moscow)\n",
    "\n",
    "index_cols = ['shop_id', 'item_id', 'date']\n",
    "\n",
    "# grid will have all cominates of shop_ids, item_ids and dates (shape: 6426000 rows, 3 columns)\n",
    "grid = []\n",
    "test_items = test.item_id.unique()\n",
    "test_shops = test.shop_id.unique()\n",
    "for d in date_list:\n",
    "    grid.append(np.array(list(product(*[test_shops, test_items, [d]]))))\n",
    "\n",
    "# Turn the grid into a dataframe\n",
    "index_cols = ['shop_id', 'item_id', 'date']\n",
    "grid = pd.DataFrame(np.vstack(grid), columns = index_cols)\n",
    "\n",
    "test_df = grid\n",
    "\n",
    "test_df['weekday'] = test_df['date'].apply(lambda x: x.isoweekday())\n",
    "test_df['is_weekend'] = test_df['date'].apply(lambda x: True if (x.isoweekday()> 5) else False )\n",
    "test_df['date_str'] = test_df.date.apply(lambda x: x.isoformat().split(\"T\")[0])\n",
    "\n",
    "# Appending category_id\n",
    "test_df = pd.merge(test_df, items[['item_id', 'item_category_id']], on='item_id', how='inner')\n",
    "\n",
    "holidays_b = holidays\n",
    "holidays_b['date_str'] = holidays_b.date.apply(lambda x: x.isoformat().split(\"T\")[0])\n",
    "holidays_b['off_day'] =  holidays_b.h_type.apply(lambda x: x.split(\",\")[0] == 'National holiday')\n",
    "holidays_b['is_holiday'] = True\n",
    "\n",
    "# Appending isholiday\n",
    "test_df = pd.merge(test_df, holidays_b[['date_str', 'is_holiday']], on='date_str', how='left')\n",
    "test_df['is_holiday'].fillna(False, inplace=True)\n",
    "\n",
    "# off_days - sunday, saturday, holidays-off_days\n",
    "test_df = pd.merge(test_df, holidays_b[['off_day', 'date_str']], on='date_str', how='left')\n",
    "test_df.loc[test_df.loc[:, 'weekday'] > 5, 'off_day'] = True\n",
    "\n",
    "# Appending shop information\n",
    "test_df = pd.merge(test_df, shops, on='shop_id', how='left')"
   ]
  },
  {
   "cell_type": "code",
   "execution_count": 531,
   "metadata": {},
   "outputs": [
    {
     "name": "stdout",
     "output_type": "stream",
     "text": [
      "(6426000, 16)\n"
     ]
    },
    {
     "data": {
      "text/html": [
       "<div>\n",
       "<style>\n",
       "    .dataframe thead tr:only-child th {\n",
       "        text-align: right;\n",
       "    }\n",
       "\n",
       "    .dataframe thead th {\n",
       "        text-align: left;\n",
       "    }\n",
       "\n",
       "    .dataframe tbody tr th {\n",
       "        vertical-align: top;\n",
       "    }\n",
       "</style>\n",
       "<table border=\"1\" class=\"dataframe\">\n",
       "  <thead>\n",
       "    <tr style=\"text-align: right;\">\n",
       "      <th></th>\n",
       "      <th>shop_id</th>\n",
       "      <th>item_id</th>\n",
       "      <th>date</th>\n",
       "      <th>weekday</th>\n",
       "      <th>is_weekend</th>\n",
       "      <th>date_str</th>\n",
       "      <th>item_category_id</th>\n",
       "      <th>is_holiday</th>\n",
       "      <th>off_day</th>\n",
       "      <th>shop_name</th>\n",
       "      <th>shop_type</th>\n",
       "      <th>city</th>\n",
       "      <th>time_wrt_utc</th>\n",
       "      <th>fed_subject</th>\n",
       "      <th>fed_dist</th>\n",
       "      <th>dist_from_moscow</th>\n",
       "    </tr>\n",
       "  </thead>\n",
       "  <tbody>\n",
       "    <tr>\n",
       "      <th>0</th>\n",
       "      <td>5</td>\n",
       "      <td>5037</td>\n",
       "      <td>2015-11-01 00:00:00+02:30</td>\n",
       "      <td>7</td>\n",
       "      <td>True</td>\n",
       "      <td>2015-11-01</td>\n",
       "      <td>19</td>\n",
       "      <td>False</td>\n",
       "      <td>True</td>\n",
       "      <td>Вологда ТРЦ \"Мармелад\"</td>\n",
       "      <td>ТРЦ</td>\n",
       "      <td>Вологда</td>\n",
       "      <td>3</td>\n",
       "      <td>Vologda Oblast</td>\n",
       "      <td>Northwest</td>\n",
       "      <td>466</td>\n",
       "    </tr>\n",
       "    <tr>\n",
       "      <th>1</th>\n",
       "      <td>4</td>\n",
       "      <td>5037</td>\n",
       "      <td>2015-11-01 00:00:00+02:30</td>\n",
       "      <td>7</td>\n",
       "      <td>True</td>\n",
       "      <td>2015-11-01</td>\n",
       "      <td>19</td>\n",
       "      <td>False</td>\n",
       "      <td>True</td>\n",
       "      <td>Волжский ТЦ \"Волга Молл\"</td>\n",
       "      <td>ТЦ</td>\n",
       "      <td>Волжский</td>\n",
       "      <td>3</td>\n",
       "      <td>Volgograd Oblast</td>\n",
       "      <td>South</td>\n",
       "      <td>993</td>\n",
       "    </tr>\n",
       "    <tr>\n",
       "      <th>2</th>\n",
       "      <td>6</td>\n",
       "      <td>5037</td>\n",
       "      <td>2015-11-01 00:00:00+02:30</td>\n",
       "      <td>7</td>\n",
       "      <td>True</td>\n",
       "      <td>2015-11-01</td>\n",
       "      <td>19</td>\n",
       "      <td>False</td>\n",
       "      <td>True</td>\n",
       "      <td>Воронеж (Плехановская, 13)</td>\n",
       "      <td>OTH</td>\n",
       "      <td>Воронеж</td>\n",
       "      <td>3</td>\n",
       "      <td>Voronezh Oblast</td>\n",
       "      <td>Central</td>\n",
       "      <td>524</td>\n",
       "    </tr>\n",
       "  </tbody>\n",
       "</table>\n",
       "</div>"
      ],
      "text/plain": [
       "  shop_id item_id                       date  weekday  is_weekend    date_str  \\\n",
       "0       5    5037  2015-11-01 00:00:00+02:30        7        True  2015-11-01   \n",
       "1       4    5037  2015-11-01 00:00:00+02:30        7        True  2015-11-01   \n",
       "2       6    5037  2015-11-01 00:00:00+02:30        7        True  2015-11-01   \n",
       "\n",
       "   item_category_id  is_holiday off_day                   shop_name shop_type  \\\n",
       "0                19       False    True      Вологда ТРЦ \"Мармелад\"       ТРЦ   \n",
       "1                19       False    True    Волжский ТЦ \"Волга Молл\"        ТЦ   \n",
       "2                19       False    True  Воронеж (Плехановская, 13)       OTH   \n",
       "\n",
       "       city  time_wrt_utc       fed_subject   fed_dist  dist_from_moscow  \n",
       "0   Вологда             3    Vologda Oblast  Northwest               466  \n",
       "1  Волжский             3  Volgograd Oblast      South               993  \n",
       "2   Воронеж             3   Voronezh Oblast    Central               524  "
      ]
     },
     "execution_count": 531,
     "metadata": {},
     "output_type": "execute_result"
    }
   ],
   "source": [
    "print(test_df.shape)\n",
    "test_df.head(3)"
   ]
  },
  {
   "cell_type": "code",
   "execution_count": null,
   "metadata": {},
   "outputs": [],
   "source": []
  }
 ],
 "metadata": {
  "kernelspec": {
   "display_name": "Python 3",
   "language": "python",
   "name": "python3"
  },
  "language_info": {
   "codemirror_mode": {
    "name": "ipython",
    "version": 3
   },
   "file_extension": ".py",
   "mimetype": "text/x-python",
   "name": "python",
   "nbconvert_exporter": "python",
   "pygments_lexer": "ipython3",
   "version": "3.5.2"
  },
  "widgets": {
   "state": {},
   "version": "1.1.2"
  }
 },
 "nbformat": 4,
 "nbformat_minor": 2
}
