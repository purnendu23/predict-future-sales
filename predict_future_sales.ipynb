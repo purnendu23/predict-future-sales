{
 "cells": [
  {
   "cell_type": "markdown",
   "metadata": {},
   "source": [
    "#### Goal :: Predict the sale (number of items) for the shop-item pair in the  test set. The test set is for one month - November 2015 "
   ]
  },
  {
   "cell_type": "code",
   "execution_count": 2,
   "metadata": {},
   "outputs": [],
   "source": [
    "import numpy as np\n",
    "import pandas as pd\n",
    "import os\n",
    "import matplotlib.pyplot as plt\n",
    "%matplotlib inline"
   ]
  },
  {
   "cell_type": "markdown",
   "metadata": {},
   "source": [
    "#### Read data"
   ]
  },
  {
   "cell_type": "code",
   "execution_count": 4,
   "metadata": {},
   "outputs": [
    {
     "name": "stdout",
     "output_type": "stream",
     "text": [
      "(2935849, 6)\n",
      "         date  date_block_num  shop_id  item_id  item_price  item_cnt_day\n",
      "0  02.01.2013               0       59    22154       999.0           1.0\n",
      "1  03.01.2013               0       25     2552       899.0           1.0\n",
      "2  05.01.2013               0       25     2552       899.0          -1.0\n",
      "\n",
      "--------------------------------------------------------\n",
      "\n",
      "(214200, 3)\n",
      "   ID  shop_id  item_id\n",
      "0   0        5     5037\n",
      "1   1        5     5320\n",
      "2   2        5     5233\n",
      "\n",
      "--------------------------------------------------------\n",
      "\n",
      "(22170, 3)\n",
      "                                           item_name  item_id  \\\n",
      "0          ! ВО ВЛАСТИ НАВАЖДЕНИЯ (ПЛАСТ.)         D        0   \n",
      "1  !ABBYY FineReader 12 Professional Edition Full...        1   \n",
      "2      ***В ЛУЧАХ СЛАВЫ   (UNV)                    D        2   \n",
      "\n",
      "   item_category_id  \n",
      "0                40  \n",
      "1                76  \n",
      "2                40  \n",
      "\n",
      "--------------------------------------------------------\n",
      "\n",
      "(84, 2)\n",
      "        item_category_name  item_category_id\n",
      "0  PC - Гарнитуры/Наушники                 0\n",
      "1         Аксессуары - PS2                 1\n",
      "2         Аксессуары - PS3                 2\n",
      "\n",
      "--------------------------------------------------------\n",
      "\n",
      "(60, 2)\n",
      "                       shop_name  shop_id\n",
      "0  !Якутск Орджоникидзе, 56 фран        0\n",
      "1  !Якутск ТЦ \"Центральный\" фран        1\n",
      "2               Адыгея ТЦ \"Мега\"        2\n",
      "\n",
      "--------------------------------------------------------\n",
      "\n",
      "Unique items: 22170\n",
      "\n",
      "--------------------------------------------------------\n",
      "\n",
      "Unique Categories: 84\n",
      "(2935849, 6)\n",
      "         date  date_block_num  shop_id  item_id  item_price  item_cnt_day\n",
      "0  02.01.2013               0       59    22154       999.0           1.0\n",
      "1  03.01.2013               0       25     2552       899.0           1.0\n",
      "2  05.01.2013               0       25     2552       899.0          -1.0\n",
      "\n",
      "--------------------------------------------------------\n",
      "\n",
      "(22170, 3)\n",
      "                                           item_name  item_id  \\\n",
      "0          ! ВО ВЛАСТИ НАВАЖДЕНИЯ (ПЛАСТ.)         D        0   \n",
      "1  !ABBYY FineReader 12 Professional Edition Full...        1   \n",
      "2      ***В ЛУЧАХ СЛАВЫ   (UNV)                    D        2   \n",
      "\n",
      "   item_category_id  \n",
      "0                40  \n",
      "1                76  \n",
      "2                40  \n",
      "\n",
      "--------------------------------------------------------\n",
      "\n",
      "(84, 2)\n",
      "        item_category_name  item_category_id\n",
      "0  PC - Гарнитуры/Наушники                 0\n",
      "1         Аксессуары - PS2                 1\n",
      "2         Аксессуары - PS3                 2\n",
      "\n",
      "--------------------------------------------------------\n",
      "\n",
      "(60, 2)\n",
      "                       shop_name  shop_id\n",
      "0  !Якутск Орджоникидзе, 56 фран        0\n",
      "1  !Якутск ТЦ \"Центральный\" фран        1\n",
      "2               Адыгея ТЦ \"Мега\"        2\n",
      "\n",
      "--------------------------------------------------------\n",
      "\n",
      "Unique items: 22170\n",
      "\n",
      "--------------------------------------------------------\n",
      "\n",
      "Unique Categories: 84\n",
      "\n",
      "--------------------------------------------------------\n",
      "\n",
      "Unique Shops: 60\n"
     ]
    }
   ],
   "source": [
    "DATA_FOLDER = './'\n",
    "\n",
    "transactions    = pd.read_csv(os.path.join(DATA_FOLDER, 'sales_train.csv.gz'))\n",
    "items           = pd.read_csv(os.path.join(DATA_FOLDER, 'items.csv'))\n",
    "item_categories = pd.read_csv(os.path.join(DATA_FOLDER, 'item_categories.csv'))\n",
    "shops           = pd.read_csv(os.path.join(DATA_FOLDER, 'shops.csv'))\n",
    "\n",
    "test = pd.read_csv(os.path.join(DATA_FOLDER, 'test.csv.gz'))\n",
    "\n",
    "\n",
    "print(transactions.shape)\n",
    "print(transactions.head(3))\n",
    "print(\"\\n--------------------------------------------------------\\n\")\n",
    "\n",
    "print(test.shape)\n",
    "print(test.head(3))\n",
    "print(\"\\n--------------------------------------------------------\\n\")\n",
    "\n",
    "\n",
    "print(items.shape)\n",
    "print(items.head(3))\n",
    "print(\"\\n--------------------------------------------------------\\n\")\n",
    "\n",
    "print(item_categories.shape)\n",
    "print(item_categories.head(3))\n",
    "print(\"\\n--------------------------------------------------------\\n\")\n",
    "\n",
    "print(shops.shape)\n",
    "print(shops.head(3))\n",
    "\n",
    "print(\"\\n--------------------------------------------------------\\n\")\n",
    "print(\"Unique items: {}\".format(len(set(items.item_id))))\n",
    "\n",
    "print(\"\\n--------------------------------------------------------\\n\")\n",
    "print(\"Unique Categories: {}\".format(len(set(item_categories.item_category_id))))\n",
    "\n",
    "# YOUR CODE GOES HERE\n",
    "\n",
    "print(transactions.shape)\n",
    "print(transactions.head(3))\n",
    "print(\"\\n--------------------------------------------------------\\n\")\n",
    "\n",
    "print(items.shape)\n",
    "print(items.head(3))\n",
    "print(\"\\n--------------------------------------------------------\\n\")\n",
    "\n",
    "print(item_categories.shape)\n",
    "print(item_categories.head(3))\n",
    "print(\"\\n--------------------------------------------------------\\n\")\n",
    "\n",
    "print(shops.shape)\n",
    "print(shops.head(3))\n",
    "\n",
    "\n",
    "print(\"\\n--------------------------------------------------------\\n\")\n",
    "print(\"Unique items: {}\".format(items.item_id.nunique()))\n",
    "\n",
    "print(\"\\n--------------------------------------------------------\\n\")\n",
    "print(\"Unique Categories: {}\".format(item_categories.item_category_id.nunique()))\n",
    "\n",
    "print(\"\\n--------------------------------------------------------\\n\")\n",
    "print(\"Unique Shops: {}\".format(shops.shop_id.nunique()))\n"
   ]
  },
  {
   "cell_type": "code",
   "execution_count": 8,
   "metadata": {},
   "outputs": [
    {
     "name": "stdout",
     "output_type": "stream",
     "text": [
      "# unique shops in training: 60\n",
      "# unique shops in test: 42\n",
      "\n",
      "--------------------------------------------------------\n",
      "\n",
      "# unique items in training: 21807\n",
      "# unique items in test: 5100\n"
     ]
    }
   ],
   "source": [
    "print(\"# unique shops in training: {}\".format(transactions.shop_id.nunique()))\n",
    "print(\"# unique shops in test: {}\".format(test.shop_id.nunique()))\n",
    "\n",
    "print(\"\\n--------------------------------------------------------\\n\")\n",
    "\n",
    "print(\"# unique items in training: {}\".format(transactions.item_id.nunique()))\n",
    "print(\"# unique items in test: {}\".format(test.item_id.nunique()))"
   ]
  },
  {
   "cell_type": "markdown",
   "metadata": {},
   "source": [
    "In the training set, there are 60 unique shops and 21807 unique items.\n",
    "In the test set, there are only 42 unique shops and 5100 unique items.\n",
    "Maybe, we should get rid of the rows which contain the extra shops"
   ]
  },
  {
   "cell_type": "code",
   "execution_count": 21,
   "metadata": {},
   "outputs": [
    {
     "data": {
      "text/plain": [
       "(array([ 1667514.,   596397.,   255516.,   149577.,    65694.,   109883.,\n",
       "           30281.,    17166.,     5341.,     4649.]),\n",
       " array([ -1.00000000e+00,   4.99024000e+02,   9.99048000e+02,\n",
       "          1.49907200e+03,   1.99909600e+03,   2.49912000e+03,\n",
       "          2.99914400e+03,   3.49916800e+03,   3.99919200e+03,\n",
       "          4.49921600e+03,   4.99924000e+03]),\n",
       " <a list of 10 Patch objects>)"
      ]
     },
     "execution_count": 21,
     "metadata": {},
     "output_type": "execute_result"
    },
    {
     "data": {
      "image/png": "[encoded data removed]",
      "text/plain": [
       "<matplotlib.figure.Figure at 0x12aa11ef0>"
      ]
     },
     "metadata": {},
     "output_type": "display_data"
    }
   ],
   "source": [
    "#plt.hist(transactions.item_price)\n",
    "\n",
    "plt.hist(transactions[transactions.item_price < 5000].item_price)"
   ]
  }
 ],
 "metadata": {
  "kernelspec": {
   "display_name": "Python 3",
   "language": "python",
   "name": "python3"
  },
  "language_info": {
   "codemirror_mode": {
    "name": "ipython",
    "version": 3
   },
   "file_extension": ".py",
   "mimetype": "text/x-python",
   "name": "python",
   "nbconvert_exporter": "python",
   "pygments_lexer": "ipython3",
   "version": "3.5.2"
  },
  "widgets": {
   "state": {},
   "version": "1.1.2"
  }
 },
 "nbformat": 4,
 "nbformat_minor": 2
}
